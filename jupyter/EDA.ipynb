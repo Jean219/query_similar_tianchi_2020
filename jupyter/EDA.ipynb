{
 "cells": [
  {
   "cell_type": "markdown",
   "metadata": {},
   "source": [
    "# 数据EDA"
   ]
  },
  {
   "cell_type": "code",
   "execution_count": 1,
   "metadata": {},
   "outputs": [
    {
     "data": {
      "text/html": [
       "<div>\n",
       "<style scoped>\n",
       "    .dataframe tbody tr th:only-of-type {\n",
       "        vertical-align: middle;\n",
       "    }\n",
       "\n",
       "    .dataframe tbody tr th {\n",
       "        vertical-align: top;\n",
       "    }\n",
       "\n",
       "    .dataframe thead th {\n",
       "        text-align: right;\n",
       "    }\n",
       "</style>\n",
       "<table border=\"1\" class=\"dataframe\">\n",
       "  <thead>\n",
       "    <tr style=\"text-align: right;\">\n",
       "      <th></th>\n",
       "      <th>category</th>\n",
       "      <th>query1</th>\n",
       "      <th>query2</th>\n",
       "      <th>label</th>\n",
       "    </tr>\n",
       "  </thead>\n",
       "  <tbody>\n",
       "    <tr>\n",
       "      <th>0</th>\n",
       "      <td>咳血</td>\n",
       "      <td>剧烈运动后咯血,是怎么了?</td>\n",
       "      <td>剧烈运动后咯血是什么原因？</td>\n",
       "      <td>1.0</td>\n",
       "    </tr>\n",
       "    <tr>\n",
       "      <th>1</th>\n",
       "      <td>咳血</td>\n",
       "      <td>剧烈运动后咯血,是怎么了?</td>\n",
       "      <td>剧烈运动后为什么会咯血？</td>\n",
       "      <td>1.0</td>\n",
       "    </tr>\n",
       "    <tr>\n",
       "      <th>2</th>\n",
       "      <td>咳血</td>\n",
       "      <td>剧烈运动后咯血,是怎么了?</td>\n",
       "      <td>剧烈运动后咯血，应该怎么处理？</td>\n",
       "      <td>0.0</td>\n",
       "    </tr>\n",
       "    <tr>\n",
       "      <th>3</th>\n",
       "      <td>咳血</td>\n",
       "      <td>剧烈运动后咯血,是怎么了?</td>\n",
       "      <td>剧烈运动后咯血，需要就医吗？</td>\n",
       "      <td>0.0</td>\n",
       "    </tr>\n",
       "    <tr>\n",
       "      <th>4</th>\n",
       "      <td>咳血</td>\n",
       "      <td>剧烈运动后咯血,是怎么了?</td>\n",
       "      <td>剧烈运动后咯血，是否很严重？</td>\n",
       "      <td>0.0</td>\n",
       "    </tr>\n",
       "    <tr>\n",
       "      <th>...</th>\n",
       "      <td>...</td>\n",
       "      <td>...</td>\n",
       "      <td>...</td>\n",
       "      <td>...</td>\n",
       "    </tr>\n",
       "    <tr>\n",
       "      <th>8748</th>\n",
       "      <td>哮喘</td>\n",
       "      <td>过敏性哮喘吃什么药管用</td>\n",
       "      <td>过敏性哮喘吃什么药有效果？</td>\n",
       "      <td>1.0</td>\n",
       "    </tr>\n",
       "    <tr>\n",
       "      <th>8749</th>\n",
       "      <td>哮喘</td>\n",
       "      <td>过敏性哮喘吃什么药管用</td>\n",
       "      <td>过敏性哮喘吃什么药效果好的快？</td>\n",
       "      <td>1.0</td>\n",
       "    </tr>\n",
       "    <tr>\n",
       "      <th>8750</th>\n",
       "      <td>哮喘</td>\n",
       "      <td>过敏性哮喘吃什么药管用</td>\n",
       "      <td>过敏性哮喘吃什么水果好？</td>\n",
       "      <td>0.0</td>\n",
       "    </tr>\n",
       "    <tr>\n",
       "      <th>8751</th>\n",
       "      <td>哮喘</td>\n",
       "      <td>过敏性哮喘吃什么药管用</td>\n",
       "      <td>过敏性哮喘能治好吗？</td>\n",
       "      <td>0.0</td>\n",
       "    </tr>\n",
       "    <tr>\n",
       "      <th>8752</th>\n",
       "      <td>哮喘</td>\n",
       "      <td>过敏性哮喘吃什么药管用</td>\n",
       "      <td>过敏性哮喘吃什么药副作用最小？</td>\n",
       "      <td>0.0</td>\n",
       "    </tr>\n",
       "  </tbody>\n",
       "</table>\n",
       "<p>8753 rows × 4 columns</p>\n",
       "</div>"
      ],
      "text/plain": [
       "     category         query1           query2  label\n",
       "0          咳血  剧烈运动后咯血,是怎么了?    剧烈运动后咯血是什么原因？    1.0\n",
       "1          咳血  剧烈运动后咯血,是怎么了?     剧烈运动后为什么会咯血？    1.0\n",
       "2          咳血  剧烈运动后咯血,是怎么了?  剧烈运动后咯血，应该怎么处理？    0.0\n",
       "3          咳血  剧烈运动后咯血,是怎么了?   剧烈运动后咯血，需要就医吗？    0.0\n",
       "4          咳血  剧烈运动后咯血,是怎么了?   剧烈运动后咯血，是否很严重？    0.0\n",
       "...       ...            ...              ...    ...\n",
       "8748       哮喘    过敏性哮喘吃什么药管用    过敏性哮喘吃什么药有效果？    1.0\n",
       "8749       哮喘    过敏性哮喘吃什么药管用  过敏性哮喘吃什么药效果好的快？    1.0\n",
       "8750       哮喘    过敏性哮喘吃什么药管用     过敏性哮喘吃什么水果好？    0.0\n",
       "8751       哮喘    过敏性哮喘吃什么药管用       过敏性哮喘能治好吗？    0.0\n",
       "8752       哮喘    过敏性哮喘吃什么药管用  过敏性哮喘吃什么药副作用最小？    0.0\n",
       "\n",
       "[8753 rows x 4 columns]"
      ]
     },
     "execution_count": 1,
     "metadata": {},
     "output_type": "execute_result"
    }
   ],
   "source": [
    "import pandas as pd\n",
    "import numpy as np\n",
    "import matplotlib.pyplot as plt\n",
    "import seaborn as sns\n",
    "train_df = pd.read_csv(\"origin-data/train.csv\")\n",
    "train_df"
   ]
  },
  {
   "cell_type": "code",
   "execution_count": 2,
   "metadata": {},
   "outputs": [
    {
     "name": "stdout",
     "output_type": "stream",
     "text": [
      "<class 'pandas.core.frame.DataFrame'>\n",
      "RangeIndex: 8753 entries, 0 to 8752\n",
      "Data columns (total 4 columns):\n",
      " #   Column    Non-Null Count  Dtype  \n",
      "---  ------    --------------  -----  \n",
      " 0   category  8753 non-null   object \n",
      " 1   query1    8753 non-null   object \n",
      " 2   query2    8753 non-null   object \n",
      " 3   label     8747 non-null   float64\n",
      "dtypes: float64(1), object(3)\n",
      "memory usage: 273.7+ KB\n"
     ]
    }
   ],
   "source": [
    "train_df.info()"
   ]
  },
  {
   "cell_type": "code",
   "execution_count": 3,
   "metadata": {},
   "outputs": [
    {
     "data": {
      "text/plain": [
       "8753"
      ]
     },
     "execution_count": 3,
     "metadata": {},
     "output_type": "execute_result"
    }
   ],
   "source": [
    "len(train_df)"
   ]
  },
  {
   "cell_type": "code",
   "execution_count": 4,
   "metadata": {},
   "outputs": [
    {
     "data": {
      "text/plain": [
       "array([0., 1., 0., 0., 0., 0., 0., 0.])"
      ]
     },
     "execution_count": 4,
     "metadata": {},
     "output_type": "execute_result"
    }
   ],
   "source": [
    "from sklearn.preprocessing import OneHotEncoder\n",
    "tt = OneHotEncoder().fit_transform(train_df[\"category\"].values.reshape(-1, 1)).toarray()\n",
    "tt[0]"
   ]
  },
  {
   "cell_type": "markdown",
   "metadata": {},
   "source": [
    "## 统计query长度的分布"
   ]
  },
  {
   "cell_type": "code",
   "execution_count": 5,
   "metadata": {},
   "outputs": [
    {
     "data": {
      "text/plain": [
       "<matplotlib.axes._subplots.AxesSubplot at 0x116261a10>"
      ]
     },
     "execution_count": 5,
     "metadata": {},
     "output_type": "execute_result"
    },
    {
     "data": {
      "image/png": "[encoded data removed]",
      "text/plain": [
       "<Figure size 432x288 with 1 Axes>"
      ]
     },
     "metadata": {
      "needs_background": "light"
     },
     "output_type": "display_data"
    }
   ],
   "source": [
    "sns.distplot(train_df[\"query1\"].map(lambda x : len(x)))"
   ]
  },
  {
   "cell_type": "code",
   "execution_count": 6,
   "metadata": {},
   "outputs": [
    {
     "data": {
      "text/plain": [
       "<matplotlib.axes._subplots.AxesSubplot at 0x118432e10>"
      ]
     },
     "execution_count": 6,
     "metadata": {},
     "output_type": "execute_result"
    },
    {
     "data": {
      "image/png": "[encoded data removed]",
      "text/plain": [
       "<Figure size 432x288 with 1 Axes>"
      ]
     },
     "metadata": {
      "needs_background": "light"
     },
     "output_type": "display_data"
    }
   ],
   "source": [
    "sns.distplot(train_df[\"query2\"].map(lambda x : len(x)))"
   ]
  },
  {
   "cell_type": "code",
   "execution_count": 7,
   "metadata": {},
   "outputs": [
    {
     "data": {
      "text/plain": [
       "40.0"
      ]
     },
     "execution_count": 7,
     "metadata": {},
     "output_type": "execute_result"
    }
   ],
   "source": [
    "np.percentile(train_df[\"query2\"].map(lambda x : len(x)),100)"
   ]
  },
  {
   "cell_type": "code",
   "execution_count": 8,
   "metadata": {},
   "outputs": [
    {
     "data": {
      "text/plain": [
       "array(['剧烈运动后咯血,是怎么了?', '剧烈运动后咯血,是怎么了?', '剧烈运动后咯血,是怎么了?', ...,\n",
       "       '过敏性哮喘吃什么药管用', '过敏性哮喘吃什么药管用', '过敏性哮喘吃什么药管用'], dtype=object)"
      ]
     },
     "execution_count": 8,
     "metadata": {},
     "output_type": "execute_result"
    }
   ],
   "source": [
    "train_df[\"query1\"].values"
   ]
  },
  {
   "cell_type": "markdown",
   "metadata": {},
   "source": [
    "## 正例负例还算均匀"
   ]
  },
  {
   "cell_type": "code",
   "execution_count": 9,
   "metadata": {},
   "outputs": [
    {
     "data": {
      "text/plain": [
       "0.0    5250\n",
       "1.0    3497\n",
       "Name: label, dtype: int64"
      ]
     },
     "execution_count": 9,
     "metadata": {},
     "output_type": "execute_result"
    }
   ],
   "source": [
    "train_df['label'].value_counts()"
   ]
  },
  {
   "cell_type": "markdown",
   "metadata": {},
   "source": [
    "## 不同问题类别分布比例"
   ]
  },
  {
   "cell_type": "code",
   "execution_count": 10,
   "metadata": {},
   "outputs": [
    {
     "data": {
      "text/plain": [
       "感冒        1921\n",
       "上呼吸道感染    1597\n",
       "肺炎        1475\n",
       "肺气肿        980\n",
       "哮喘         875\n",
       "胸膜炎        795\n",
       "支原体肺炎      790\n",
       "咳血         320\n",
       "Name: category, dtype: int64"
      ]
     },
     "execution_count": 10,
     "metadata": {},
     "output_type": "execute_result"
    }
   ],
   "source": [
    "train_df[\"category\"].value_counts()"
   ]
  },
  {
   "cell_type": "code",
   "execution_count": 11,
   "metadata": {},
   "outputs": [
    {
     "data": {
      "text/html": [
       "<div>\n",
       "<style scoped>\n",
       "    .dataframe tbody tr th:only-of-type {\n",
       "        vertical-align: middle;\n",
       "    }\n",
       "\n",
       "    .dataframe tbody tr th {\n",
       "        vertical-align: top;\n",
       "    }\n",
       "\n",
       "    .dataframe thead th {\n",
       "        text-align: right;\n",
       "    }\n",
       "</style>\n",
       "<table border=\"1\" class=\"dataframe\">\n",
       "  <thead>\n",
       "    <tr style=\"text-align: right;\">\n",
       "      <th></th>\n",
       "      <th>category</th>\n",
       "      <th>query1</th>\n",
       "      <th>query2</th>\n",
       "      <th>label</th>\n",
       "    </tr>\n",
       "  </thead>\n",
       "  <tbody>\n",
       "    <tr>\n",
       "      <th>350</th>\n",
       "      <td>支原体肺炎</td>\n",
       "      <td>小儿支原体肺炎怎样能彻底治愈</td>\n",
       "      <td>小儿支原体肺炎如何根治？</td>\n",
       "      <td>NaN</td>\n",
       "    </tr>\n",
       "    <tr>\n",
       "      <th>351</th>\n",
       "      <td>支原体肺炎</td>\n",
       "      <td>小儿支原体肺炎怎样能彻底治愈</td>\n",
       "      <td>小儿支原体肺炎怎样可以彻底治好？</td>\n",
       "      <td>NaN</td>\n",
       "    </tr>\n",
       "    <tr>\n",
       "      <th>352</th>\n",
       "      <td>支原体肺炎</td>\n",
       "      <td>小儿支原体肺炎怎样能彻底治愈</td>\n",
       "      <td>小孩支原体肺炎多久能痊愈？</td>\n",
       "      <td>NaN</td>\n",
       "    </tr>\n",
       "    <tr>\n",
       "      <th>353</th>\n",
       "      <td>支原体肺炎</td>\n",
       "      <td>小儿支原体肺炎怎样能彻底治愈</td>\n",
       "      <td>如何诊断小儿支原体肺炎？</td>\n",
       "      <td>NaN</td>\n",
       "    </tr>\n",
       "    <tr>\n",
       "      <th>354</th>\n",
       "      <td>支原体肺炎</td>\n",
       "      <td>小儿支原体肺炎怎样能彻底治愈</td>\n",
       "      <td>小儿支原体肺炎有哪些病症？</td>\n",
       "      <td>NaN</td>\n",
       "    </tr>\n",
       "    <tr>\n",
       "      <th>8052</th>\n",
       "      <td>哮喘</td>\n",
       "      <td>请问，怎么可以治疗哮喘病</td>\n",
       "      <td>哮喘病发吃什么有效？</td>\n",
       "      <td>NaN</td>\n",
       "    </tr>\n",
       "  </tbody>\n",
       "</table>\n",
       "</div>"
      ],
      "text/plain": [
       "     category          query1            query2  label\n",
       "350     支原体肺炎  小儿支原体肺炎怎样能彻底治愈      小儿支原体肺炎如何根治？    NaN\n",
       "351     支原体肺炎  小儿支原体肺炎怎样能彻底治愈  小儿支原体肺炎怎样可以彻底治好？    NaN\n",
       "352     支原体肺炎  小儿支原体肺炎怎样能彻底治愈     小孩支原体肺炎多久能痊愈？    NaN\n",
       "353     支原体肺炎  小儿支原体肺炎怎样能彻底治愈      如何诊断小儿支原体肺炎？    NaN\n",
       "354     支原体肺炎  小儿支原体肺炎怎样能彻底治愈     小儿支原体肺炎有哪些病症？    NaN\n",
       "8052       哮喘    请问，怎么可以治疗哮喘病        哮喘病发吃什么有效？    NaN"
      ]
     },
     "execution_count": 11,
     "metadata": {},
     "output_type": "execute_result"
    }
   ],
   "source": [
    "label_nan_df = train_df.loc[(train_df[\"label\"]!=1) & (train_df[\"label\"]!=0),:]\n",
    "label_nan_df"
   ]
  },
  {
   "cell_type": "code",
   "execution_count": 12,
   "metadata": {},
   "outputs": [
    {
     "data": {
      "text/plain": [
       "Int64Index([350, 351, 352, 353, 354, 8052], dtype='int64')"
      ]
     },
     "execution_count": 12,
     "metadata": {},
     "output_type": "execute_result"
    }
   ],
   "source": [
    "label_nan_df.index"
   ]
  },
  {
   "cell_type": "markdown",
   "metadata": {},
   "source": [
    "## 删除label为nan的数据"
   ]
  },
  {
   "cell_type": "code",
   "execution_count": 13,
   "metadata": {},
   "outputs": [
    {
     "name": "stdout",
     "output_type": "stream",
     "text": [
      "<class 'pandas.core.frame.DataFrame'>\n",
      "Int64Index: 8747 entries, 0 to 8752\n",
      "Data columns (total 4 columns):\n",
      " #   Column    Non-Null Count  Dtype \n",
      "---  ------    --------------  ----- \n",
      " 0   category  8747 non-null   object\n",
      " 1   query1    8747 non-null   object\n",
      " 2   query2    8747 non-null   object\n",
      " 3   label     8747 non-null   int64 \n",
      "dtypes: int64(1), object(3)\n",
      "memory usage: 341.7+ KB\n"
     ]
    }
   ],
   "source": [
    "train_df = train_df.drop(index=label_nan_df.index,axis=0)\n",
    "train_df[\"label\"] = train_df[\"label\"].map(lambda x :int(x))\n",
    "train_df.info()"
   ]
  },
  {
   "cell_type": "markdown",
   "metadata": {},
   "source": [
    "# 切分dev一部分出来作为test"
   ]
  },
  {
   "cell_type": "code",
   "execution_count": 14,
   "metadata": {},
   "outputs": [
    {
     "data": {
      "text/html": [
       "<div>\n",
       "<style scoped>\n",
       "    .dataframe tbody tr th:only-of-type {\n",
       "        vertical-align: middle;\n",
       "    }\n",
       "\n",
       "    .dataframe tbody tr th {\n",
       "        vertical-align: top;\n",
       "    }\n",
       "\n",
       "    .dataframe thead th {\n",
       "        text-align: right;\n",
       "    }\n",
       "</style>\n",
       "<table border=\"1\" class=\"dataframe\">\n",
       "  <thead>\n",
       "    <tr style=\"text-align: right;\">\n",
       "      <th></th>\n",
       "      <th>category</th>\n",
       "      <th>query1</th>\n",
       "      <th>query2</th>\n",
       "      <th>label</th>\n",
       "    </tr>\n",
       "  </thead>\n",
       "  <tbody>\n",
       "    <tr>\n",
       "      <th>0</th>\n",
       "      <td>咳血</td>\n",
       "      <td>请问呕血与咯血有什么区别？</td>\n",
       "      <td>请问呕血与咯血这两者之间有什么区别？</td>\n",
       "      <td>1</td>\n",
       "    </tr>\n",
       "    <tr>\n",
       "      <th>1</th>\n",
       "      <td>咳血</td>\n",
       "      <td>请问呕血与咯血有什么区别？</td>\n",
       "      <td>请问呕血与咯血异同？</td>\n",
       "      <td>1</td>\n",
       "    </tr>\n",
       "    <tr>\n",
       "      <th>2</th>\n",
       "      <td>咳血</td>\n",
       "      <td>请问呕血与咯血有什么区别？</td>\n",
       "      <td>请问呕血与咯血怎么治疗？</td>\n",
       "      <td>0</td>\n",
       "    </tr>\n",
       "    <tr>\n",
       "      <th>3</th>\n",
       "      <td>咳血</td>\n",
       "      <td>请问呕血与咯血有什么区别？</td>\n",
       "      <td>请问呕血与咯血是什么原因导致的？</td>\n",
       "      <td>0</td>\n",
       "    </tr>\n",
       "    <tr>\n",
       "      <th>4</th>\n",
       "      <td>咳血</td>\n",
       "      <td>请问呕血与咯血有什么区别？</td>\n",
       "      <td>请问呕血与咯血与其他疾病有关联吗？</td>\n",
       "      <td>0</td>\n",
       "    </tr>\n",
       "    <tr>\n",
       "      <th>...</th>\n",
       "      <td>...</td>\n",
       "      <td>...</td>\n",
       "      <td>...</td>\n",
       "      <td>...</td>\n",
       "    </tr>\n",
       "    <tr>\n",
       "      <th>1997</th>\n",
       "      <td>哮喘</td>\n",
       "      <td>变应性哮喘就是过敏性哮喘吗？</td>\n",
       "      <td>变应性哮喘与过敏性哮喘一样吗？</td>\n",
       "      <td>1</td>\n",
       "    </tr>\n",
       "    <tr>\n",
       "      <th>1998</th>\n",
       "      <td>哮喘</td>\n",
       "      <td>变应性哮喘就是过敏性哮喘吗？</td>\n",
       "      <td>变应性哮喘是否就是过敏性哮喘？</td>\n",
       "      <td>1</td>\n",
       "    </tr>\n",
       "    <tr>\n",
       "      <th>1999</th>\n",
       "      <td>哮喘</td>\n",
       "      <td>变应性哮喘就是过敏性哮喘吗？</td>\n",
       "      <td>变应性哮喘的饮食禁忌有哪些？</td>\n",
       "      <td>0</td>\n",
       "    </tr>\n",
       "    <tr>\n",
       "      <th>2000</th>\n",
       "      <td>哮喘</td>\n",
       "      <td>变应性哮喘就是过敏性哮喘吗？</td>\n",
       "      <td>变应性哮喘怎么治疗？</td>\n",
       "      <td>0</td>\n",
       "    </tr>\n",
       "    <tr>\n",
       "      <th>2001</th>\n",
       "      <td>哮喘</td>\n",
       "      <td>变应性哮喘就是过敏性哮喘吗？</td>\n",
       "      <td>变应性哮喘能跑步吗？</td>\n",
       "      <td>0</td>\n",
       "    </tr>\n",
       "  </tbody>\n",
       "</table>\n",
       "<p>2002 rows × 4 columns</p>\n",
       "</div>"
      ],
      "text/plain": [
       "     category          query1              query2  label\n",
       "0          咳血   请问呕血与咯血有什么区别？  请问呕血与咯血这两者之间有什么区别？      1\n",
       "1          咳血   请问呕血与咯血有什么区别？          请问呕血与咯血异同？      1\n",
       "2          咳血   请问呕血与咯血有什么区别？        请问呕血与咯血怎么治疗？      0\n",
       "3          咳血   请问呕血与咯血有什么区别？    请问呕血与咯血是什么原因导致的？      0\n",
       "4          咳血   请问呕血与咯血有什么区别？   请问呕血与咯血与其他疾病有关联吗？      0\n",
       "...       ...             ...                 ...    ...\n",
       "1997       哮喘  变应性哮喘就是过敏性哮喘吗？     变应性哮喘与过敏性哮喘一样吗？      1\n",
       "1998       哮喘  变应性哮喘就是过敏性哮喘吗？     变应性哮喘是否就是过敏性哮喘？      1\n",
       "1999       哮喘  变应性哮喘就是过敏性哮喘吗？      变应性哮喘的饮食禁忌有哪些？      0\n",
       "2000       哮喘  变应性哮喘就是过敏性哮喘吗？          变应性哮喘怎么治疗？      0\n",
       "2001       哮喘  变应性哮喘就是过敏性哮喘吗？          变应性哮喘能跑步吗？      0\n",
       "\n",
       "[2002 rows x 4 columns]"
      ]
     },
     "execution_count": 14,
     "metadata": {},
     "output_type": "execute_result"
    }
   ],
   "source": [
    "dev_df = pd.read_csv(\"origin-data/dev.csv\")\n",
    "dev_df"
   ]
  },
  {
   "cell_type": "code",
   "execution_count": 15,
   "metadata": {},
   "outputs": [
    {
     "name": "stdout",
     "output_type": "stream",
     "text": [
      "<class 'pandas.core.frame.DataFrame'>\n",
      "RangeIndex: 2002 entries, 0 to 2001\n",
      "Data columns (total 4 columns):\n",
      " #   Column    Non-Null Count  Dtype \n",
      "---  ------    --------------  ----- \n",
      " 0   category  2002 non-null   object\n",
      " 1   query1    2002 non-null   object\n",
      " 2   query2    2002 non-null   object\n",
      " 3   label     2002 non-null   int64 \n",
      "dtypes: int64(1), object(3)\n",
      "memory usage: 62.7+ KB\n"
     ]
    }
   ],
   "source": [
    "dev_df.info()"
   ]
  },
  {
   "cell_type": "code",
   "execution_count": 16,
   "metadata": {},
   "outputs": [
    {
     "data": {
      "text/plain": [
       "上呼吸道感染    425\n",
       "感冒        379\n",
       "肺炎        323\n",
       "哮喘        230\n",
       "胸膜炎       225\n",
       "肺气肿       195\n",
       "支原体肺炎     165\n",
       "咳血         60\n",
       "Name: category, dtype: int64"
      ]
     },
     "execution_count": 16,
     "metadata": {},
     "output_type": "execute_result"
    }
   ],
   "source": [
    "dev_df[\"category\"].value_counts()"
   ]
  },
  {
   "cell_type": "code",
   "execution_count": 17,
   "metadata": {},
   "outputs": [],
   "source": [
    "from sklearn.model_selection import train_test_split\n",
    "dev_index,test_index,_,_ = train_test_split(dev_df.index,dev_df[\"label\"],test_size=0.3,random_state=2020,stratify=dev_df[\"label\"])"
   ]
  },
  {
   "cell_type": "code",
   "execution_count": 18,
   "metadata": {},
   "outputs": [
    {
     "name": "stdout",
     "output_type": "stream",
     "text": [
      "<class 'pandas.core.frame.DataFrame'>\n",
      "Int64Index: 1401 entries, 1796 to 395\n",
      "Data columns (total 4 columns):\n",
      " #   Column    Non-Null Count  Dtype \n",
      "---  ------    --------------  ----- \n",
      " 0   category  1401 non-null   object\n",
      " 1   query1    1401 non-null   object\n",
      " 2   query2    1401 non-null   object\n",
      " 3   label     1401 non-null   int64 \n",
      "dtypes: int64(1), object(3)\n",
      "memory usage: 54.7+ KB\n"
     ]
    }
   ],
   "source": [
    "new_dev_df = dev_df.iloc[dev_index,:]\n",
    "new_dev_df.info()"
   ]
  },
  {
   "cell_type": "code",
   "execution_count": 19,
   "metadata": {},
   "outputs": [
    {
     "name": "stdout",
     "output_type": "stream",
     "text": [
      "<class 'pandas.core.frame.DataFrame'>\n",
      "Int64Index: 601 entries, 1482 to 742\n",
      "Data columns (total 4 columns):\n",
      " #   Column    Non-Null Count  Dtype \n",
      "---  ------    --------------  ----- \n",
      " 0   category  601 non-null    object\n",
      " 1   query1    601 non-null    object\n",
      " 2   query2    601 non-null    object\n",
      " 3   label     601 non-null    int64 \n",
      "dtypes: int64(1), object(3)\n",
      "memory usage: 23.5+ KB\n"
     ]
    }
   ],
   "source": [
    "test_df = dev_df.iloc[test_index,:]\n",
    "test_df.info()"
   ]
  },
  {
   "cell_type": "markdown",
   "metadata": {},
   "source": [
    "# 重新存入切分后的数据"
   ]
  },
  {
   "cell_type": "markdown",
   "metadata": {},
   "source": [
    "## 标点符号转换"
   ]
  },
  {
   "cell_type": "code",
   "execution_count": 20,
   "metadata": {},
   "outputs": [],
   "source": [
    "import re\n",
    "def replace_punc(query):\n",
    "    query = re.sub(',','，',query)\n",
    "    query = re.sub('\\?','？',query)\n",
    "    query = re.sub('\\.','。',query)\n",
    "    query = re.sub('!','！',query)\n",
    "    return query"
   ]
  },
  {
   "cell_type": "code",
   "execution_count": 21,
   "metadata": {},
   "outputs": [
    {
     "name": "stderr",
     "output_type": "stream",
     "text": [
      "/opt/anaconda3/envs/tf2_py37/lib/python3.7/site-packages/ipykernel_launcher.py:4: SettingWithCopyWarning: \n",
      "A value is trying to be set on a copy of a slice from a DataFrame.\n",
      "Try using .loc[row_indexer,col_indexer] = value instead\n",
      "\n",
      "See the caveats in the documentation: https://pandas.pydata.org/pandas-docs/stable/user_guide/indexing.html#returning-a-view-versus-a-copy\n",
      "  after removing the cwd from sys.path.\n",
      "/opt/anaconda3/envs/tf2_py37/lib/python3.7/site-packages/ipykernel_launcher.py:5: SettingWithCopyWarning: \n",
      "A value is trying to be set on a copy of a slice from a DataFrame.\n",
      "Try using .loc[row_indexer,col_indexer] = value instead\n",
      "\n",
      "See the caveats in the documentation: https://pandas.pydata.org/pandas-docs/stable/user_guide/indexing.html#returning-a-view-versus-a-copy\n",
      "  \"\"\"\n",
      "/opt/anaconda3/envs/tf2_py37/lib/python3.7/site-packages/ipykernel_launcher.py:7: SettingWithCopyWarning: \n",
      "A value is trying to be set on a copy of a slice from a DataFrame.\n",
      "Try using .loc[row_indexer,col_indexer] = value instead\n",
      "\n",
      "See the caveats in the documentation: https://pandas.pydata.org/pandas-docs/stable/user_guide/indexing.html#returning-a-view-versus-a-copy\n",
      "  import sys\n",
      "/opt/anaconda3/envs/tf2_py37/lib/python3.7/site-packages/ipykernel_launcher.py:8: SettingWithCopyWarning: \n",
      "A value is trying to be set on a copy of a slice from a DataFrame.\n",
      "Try using .loc[row_indexer,col_indexer] = value instead\n",
      "\n",
      "See the caveats in the documentation: https://pandas.pydata.org/pandas-docs/stable/user_guide/indexing.html#returning-a-view-versus-a-copy\n",
      "  \n"
     ]
    }
   ],
   "source": [
    "train_df['query1'] = train_df.loc[:,\"query1\"].map(replace_punc)\n",
    "train_df['query2'] = train_df.loc[:,\"query2\"].map(replace_punc)\n",
    "\n",
    "new_dev_df['query1'] = new_dev_df.loc[:,\"query1\"].map(replace_punc)\n",
    "new_dev_df['query2'] = new_dev_df.loc[:,\"query2\"].map(replace_punc)\n",
    "\n",
    "test_df['query1'] = test_df.loc[:,\"query1\"].map(replace_punc)\n",
    "test_df['query2'] = test_df.loc[:,\"query2\"].map(replace_punc)"
   ]
  },
  {
   "cell_type": "markdown",
   "metadata": {},
   "source": [
    "## 重新存储"
   ]
  },
  {
   "cell_type": "code",
   "execution_count": 22,
   "metadata": {},
   "outputs": [],
   "source": [
    "train_df.to_csv(\"shuffle-data/train_data.csv\",index=False)\n",
    "new_dev_df.to_csv(\"shuffle-data/dev_data.csv\",index=False)\n",
    "test_df.to_csv(\"shuffle-data/test_data.csv\",index=False)"
   ]
  }
 ],
 "metadata": {
  "kernelspec": {
   "display_name": "tf2_py37",
   "language": "python",
   "name": "tf2_py37"
  },
  "language_info": {
   "codemirror_mode": {
    "name": "ipython",
    "version": 3
   },
   "file_extension": ".py",
   "mimetype": "text/x-python",
   "name": "python",
   "nbconvert_exporter": "python",
   "pygments_lexer": "ipython3",
   "version": "3.7.6"
  },
  "toc-autonumbering": true
 },
 "nbformat": 4,
 "nbformat_minor": 4
}
